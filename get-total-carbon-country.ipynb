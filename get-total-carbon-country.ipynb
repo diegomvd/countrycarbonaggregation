{
 "cells": [
  {
   "cell_type": "markdown",
   "metadata": {},
   "source": [
    "# Total carbon per country\n",
    "\n",
    "- In this code we calculate the total carbon pero country with a csv as an output with the values classified in different years\n",
    "- summary of the process:\n",
    "  - get both rasters and vector data\n",
    "  - adapt a table for the output\n",
    "  - iterate over the rasters and iterate over the vector data\n",
    "  - do the masking and sum the values of the output raster (array)\n",
    "  - collect the results into a list\n",
    "  - append the results to the adapted final table"
   ]
  },
  {
   "cell_type": "code",
   "execution_count": 1,
   "metadata": {},
   "outputs": [],
   "source": [
    "import os\n",
    "import geopandas as gpd\n",
    "import rasterio\n",
    "import rasterio.mask\n",
    "import matplotlib.pyplot as plt\n",
    "import numpy as np\n",
    "import pandas as pd"
   ]
  },
  {
   "cell_type": "code",
   "execution_count": 2,
   "metadata": {},
   "outputs": [
    {
     "name": "stdout",
     "output_type": "stream",
     "text": [
      "['vcs_2001_global_300m.tif', 'vcs_2002_global_300m.tif', 'vcs_2003_global_300m.tif', 'vcs_2004_global_300m.tif', 'vcs_2005_global_300m.tif', 'vcs_2009_global_300m.tif', 'vcs_2010_global_300m.tif', 'vcs_2011_global_300m.tif', 'vcs_2012_global_300m.tif', 'vcs_2013_global_300m.tif', 'vcs_2014_global_300m.tif', 'vcs_2015_global_300m.tif', 'vcs_2016_global_300m.tif', 'vcs_2017_global_300m.tif', 'vcs_2018_global_300m.tif', 'vcs_2019_global_300m.tif', 'vcs_2020_global_300m.tif']\n"
     ]
    }
   ],
   "source": [
    "\"\"\"This is the location of the raster files\"\"\"\n",
    "# ACHTUNG: the file name structure must be vcs_YYYY_global_300m.tif'\n",
    "path = r\"\\\\akif.internal\\public\\veg_c_storage_rawdata\"\n",
    "\n",
    "\"\"\"Get a list of the raster files inside the folder\"\"\"\n",
    "File_list = [] #f for f in os.listdir(path) if os.isfile(mypath,f)\n",
    "for file in os.listdir(path):\n",
    "    if \".tif\" in file:\n",
    "        if file not in File_list:\n",
    "            File_list.append(file)\n",
    "    else:\n",
    "        pass\n",
    "print(File_list)"
   ]
  },
  {
   "cell_type": "code",
   "execution_count": 3,
   "metadata": {},
   "outputs": [],
   "source": [
    "\"\"\"Open the Vector data\"\"\"\n",
    "globalmap = r\"\\\\akif.internal\\public\\z_resources\\im-wb\\2015_gaul_dataset_mod_2015_gaul_dataset_gdba0000000b.shp\"\n",
    "gdf = gpd.read_file(globalmap)\n",
    "\n",
    "\"\"\"Prepare the dataframe / df for the final table\"\"\"\n",
    "df_final = pd.DataFrame(gdf.drop(columns='geometry'))\n",
    "df_final = df_final.drop([\"STATUS\", \"DISP_AREA\", \"ADM0_CODE\", \"STR0_YEAR\", \"EXP0_YEAR\", \"Shape_Leng\", \"ISO3166_1_\", \"ISO3166__1\", \"Shape_Le_1\", \"Shape_Area\"], axis = 1)"
   ]
  },
  {
   "cell_type": "code",
   "execution_count": null,
   "metadata": {},
   "outputs": [],
   "source": [
    "\"\"\"We set ourselves in the folder with the rasters\"\"\"\n",
    "os.chdir(path)\n",
    "\n",
    "\"\"\"Iterate the rasters\"\"\"\n",
    "for file in File_list[:]: # CUIDATO CUANDO TERMINES BORRALO\n",
    "    \"\"\"Take the year of the file\"\"\"\n",
    "    file_year = str(file[4:8])\n",
    "    print(\"\\r\", \"We are working with the file {} from the year {}\".format(file, file_year), end=\"\")\n",
    "\n",
    "    \"\"\"Create a list of the carbon values\"\"\"\n",
    "    carbon_values = []\n",
    "\n",
    "    \"\"\"Open the raster\"\"\"\n",
    "    with rasterio.open(file) as raster_file:\n",
    "\n",
    "        \"\"\"Iterate on the gdf\"\"\"\n",
    "        for row_index, row in gdf.iterrows(): # gdf.loc[0:1].iterrows():\n",
    "            geo_row = gpd.GeoSeries(row['geometry'])\n",
    "\n",
    "            \"\"\"Do the masking\"\"\"\n",
    "            out_image, out_transform = rasterio.mask.mask(raster_file, geo_row, crop=True)\n",
    "\n",
    "            \"\"\"Sum the values ignoring the nan values\"\"\"\n",
    "            carbon_total = np.nansum(out_image) # nansum treats nan values as 0, we have to do this since with sum we get as result nan\n",
    "\n",
    "            \"\"\"Append the value to the list\"\"\"\n",
    "            carbon_values.append(carbon_total)\n",
    "\n",
    "            print(\"\\r\", \"the country {} is finished\".format(row[\"ADM0_NAME\"]), end=\"\") #this is, so we delete the previous print\n",
    "            \n",
    "    print(\"\\r\", \"Finished calculating {} year raster\".format(file_year), end=\"\")\n",
    "        # time: for 1 year took 83m\n",
    "\n",
    "    \"\"\"Transform the list into a dataframe with the header of the year\"\"\"\n",
    "    carbon_values_s = pd.DataFrame(carbon_values, columns = [file_year])\n",
    "\n",
    "    \"\"\"Append the dataframe to the final dataframe\"\"\"\n",
    "    df_final = df_final.join(carbon_values_s)\n",
    "    \n",
    "\"\"\"Export the result\"\"\"\n",
    "df_final.to_csv(\"total_carbon.csv\")"
   ]
  },
  {
   "cell_type": "code",
   "execution_count": null,
   "metadata": {},
   "outputs": [],
   "source": []
  },
  {
   "cell_type": "markdown",
   "metadata": {},
   "source": [
    "Here is the same code separated in different blocks for testing"
   ]
  },
  {
   "cell_type": "code",
   "execution_count": 11,
   "metadata": {},
   "outputs": [
    {
     "name": "stdout",
     "output_type": "stream",
     "text": [
      "We are working with the file vcs_2010_global_300m.tif from the year 2010\n"
     ]
    }
   ],
   "source": [
    "\"\"\"We set ourselves in the folder with the rasters\"\"\"\n",
    "os.chdir(path)\n",
    "\n",
    "\"\"\"Iterate the rasters\"\"\"\n",
    "for file in File_list[6:7]:\n",
    "    \"\"\"Take the year of the file\"\"\"\n",
    "    file_year = str(file[4:8])\n",
    "    print(\"We are working with the file {} from the year {}\".format(file, file_year))"
   ]
  },
  {
   "cell_type": "code",
   "execution_count": 13,
   "metadata": {},
   "outputs": [
    {
     "name": "stdout",
     "output_type": "stream",
     "text": [
      "the country Cape Verde is finished\n",
      "the country Côte d'Ivoire is finished\n",
      "Finished calculating 2010 Year\n"
     ]
    }
   ],
   "source": [
    "carbon_values = []\n",
    "\n",
    "\"\"\"Iterate on the gdf\"\"\"\n",
    "for row_index, row in gdf.loc[53:54].iterrows(): # gdf.loc[0:1].iterrows():\n",
    "    geo_row = gpd.GeoSeries(row['geometry'])\n",
    "\n",
    "    \"\"\"Do the masking\"\"\"\n",
    "    with rasterio.open(file) as raster_file:\n",
    "        # band = raster_file.read(1)\n",
    "        out_image, out_transform = rasterio.mask.mask(raster_file, geo_row, crop=True)\n",
    "\n",
    "    \"\"\"Sum the values ignoring the nan values\"\"\"\n",
    "    carbon_total = np.nansum(out_image) # nansum treats nan values as 0, we have to do this since with sum we get as result nan\n",
    "\n",
    "    \"\"\"Append the value to the list\"\"\"\n",
    "    carbon_values.append(carbon_total)\n",
    "\n",
    "    print(\"the country {} is finished\".format(row[\"ADM0_NAME\"]))\n",
    "    \n",
    "print(\"Finished calculating {} Year\".format(file_year))\n",
    "# time: for 1 year took 83m"
   ]
  },
  {
   "cell_type": "code",
   "execution_count": 34,
   "metadata": {},
   "outputs": [
    {
     "name": "stdout",
     "output_type": "stream",
     "text": [
      "[ 0.  1.  5. nan]\n",
      "11422 7\n"
     ]
    }
   ],
   "source": [
    "\"\"\"Check if the result is correct\"\"\"\n",
    "print(np.unique(out_image))\n",
    "count_5 = np.count_nonzero(out_image == 5)\n",
    "count_1 = np.count_nonzero(out_image == 1)\n",
    "print(count_5, count_1)"
   ]
  },
  {
   "cell_type": "code",
   "execution_count": 50,
   "metadata": {},
   "outputs": [],
   "source": [
    "\"\"\"Transform the list into a dataframe with the header of the year\"\"\"\n",
    "carbon_values_s = pd.DataFrame(carbon_values, columns = [file_year])\n"
   ]
  },
  {
   "cell_type": "code",
   "execution_count": 51,
   "metadata": {},
   "outputs": [],
   "source": [
    "\"\"\"Append the dataframe to the final dataframe\"\"\"\n",
    "df_final_copy = df_final.join(carbon_values_s)"
   ]
  },
  {
   "cell_type": "code",
   "execution_count": 53,
   "metadata": {},
   "outputs": [],
   "source": [
    "\"\"\"Export the result\"\"\"\n",
    "df_final_copy.to_csv(\"total_carbon.csv\")"
   ]
  },
  {
   "cell_type": "code",
   "execution_count": null,
   "metadata": {},
   "outputs": [],
   "source": [
    "\"\"\"This is the output method for rasterio\n",
    "the code expects 2 dimensions (height and width), so we \n",
    "have to transform the array from 3 to two dimensions\n",
    "\"\"\"\n",
    "\n",
    "\"\"\"Prepare the metadata for the output\"\"\"\n",
    "out_band = raster_file.read(1)\n",
    "out_meta = raster_file.meta\n",
    "out_meta.update(\n",
    "        dtype=rasterio.uint8,\n",
    "        count=1,\n",
    "        compress='lzw')\n",
    "\n",
    "\"\"\"testing write result\"\"\"\n",
    "with rasterio.open(os.path.join(path, 'test.tif'), 'w', **out_meta) as dst:\n",
    "    dst.write_band(1, out_image.astype(rasterio.float32))"
   ]
  }
 ],
 "metadata": {
  "kernelspec": {
   "display_name": "Python 3.7.12 ('geo_env')",
   "language": "python",
   "name": "python3"
  },
  "language_info": {
   "codemirror_mode": {
    "name": "ipython",
    "version": 3
   },
   "file_extension": ".py",
   "mimetype": "text/x-python",
   "name": "python",
   "nbconvert_exporter": "python",
   "pygments_lexer": "ipython3",
   "version": "3.7.12"
  },
  "orig_nbformat": 4,
  "vscode": {
   "interpreter": {
    "hash": "3443882cbf9cbaf6f42816cc7aa7f372c345ad680ada25690ad2174b0388f2b7"
   }
  }
 },
 "nbformat": 4,
 "nbformat_minor": 2
}
